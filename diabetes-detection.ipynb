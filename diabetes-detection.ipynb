{
 "cells": [
  {
   "cell_type": "code",
   "execution_count": 1,
   "id": "e186f614",
   "metadata": {
    "execution": {
     "iopub.execute_input": "2022-07-01T18:13:34.056540Z",
     "iopub.status.busy": "2022-07-01T18:13:34.055478Z",
     "iopub.status.idle": "2022-07-01T18:13:35.615192Z",
     "shell.execute_reply": "2022-07-01T18:13:35.614253Z"
    },
    "papermill": {
     "duration": 1.577289,
     "end_time": "2022-07-01T18:13:35.618027",
     "exception": false,
     "start_time": "2022-07-01T18:13:34.040738",
     "status": "completed"
    },
    "tags": []
   },
   "outputs": [],
   "source": [
    "#import liberaries\n",
    "import pandas as pd\n",
    "import numpy as np\n",
    "import seaborn as sns\n",
    "import matplotlib.pyplot as plt\n",
    "from sklearn.ensemble import RandomForestClassifier\n",
    "from sklearn.model_selection import train_test_split\n",
    "import scipy.stats as stats\n",
    "from sklearn.metrics import classification_report, confusion_matrix,roc_curve,roc_auc_score\n",
    "\n"
   ]
  },
  {
   "cell_type": "code",
   "execution_count": 2,
   "id": "0b7968b9",
   "metadata": {
    "execution": {
     "iopub.execute_input": "2022-07-01T18:13:35.642835Z",
     "iopub.status.busy": "2022-07-01T18:13:35.642187Z",
     "iopub.status.idle": "2022-07-01T18:13:35.648873Z",
     "shell.execute_reply": "2022-07-01T18:13:35.647954Z"
    },
    "papermill": {
     "duration": 0.02214,
     "end_time": "2022-07-01T18:13:35.651221",
     "exception": false,
     "start_time": "2022-07-01T18:13:35.629081",
     "status": "completed"
    },
    "tags": []
   },
   "outputs": [],
   "source": [
    "#this code to display two data frame horizontal\n",
    "from IPython.display import display_html\n",
    "from itertools import chain,cycle\n",
    "def display_side_by_side(*args,titles=cycle([''])):\n",
    "    html_str=''\n",
    "    for df,title in zip(args, chain(titles,cycle(['</br>'])) ):\n",
    "        html_str+='<th style=\"text-align:center\"><td style=\"vertical-align:top\">'\n",
    "        html_str+=f'<h2>{title}</h2>'\n",
    "        html_str+=df.to_html().replace('table','table style=\"display:inline\"')\n",
    "        html_str+='</td></th>'\n",
    "    display_html(html_str,raw=True)\n",
    "  "
   ]
  },
  {
   "cell_type": "code",
   "execution_count": 3,
   "id": "17dbbbcb",
   "metadata": {
    "execution": {
     "iopub.execute_input": "2022-07-01T18:13:35.675160Z",
     "iopub.status.busy": "2022-07-01T18:13:35.674132Z",
     "iopub.status.idle": "2022-07-01T18:13:35.716997Z",
     "shell.execute_reply": "2022-07-01T18:13:35.715851Z"
    },
    "papermill": {
     "duration": 0.0577,
     "end_time": "2022-07-01T18:13:35.719877",
     "exception": false,
     "start_time": "2022-07-01T18:13:35.662177",
     "status": "completed"
    },
    "tags": []
   },
   "outputs": [
    {
     "data": {
      "text/html": [
       "<div>\n",
       "<style scoped>\n",
       "    .dataframe tbody tr th:only-of-type {\n",
       "        vertical-align: middle;\n",
       "    }\n",
       "\n",
       "    .dataframe tbody tr th {\n",
       "        vertical-align: top;\n",
       "    }\n",
       "\n",
       "    .dataframe thead th {\n",
       "        text-align: right;\n",
       "    }\n",
       "</style>\n",
       "<table border=\"1\" class=\"dataframe\">\n",
       "  <thead>\n",
       "    <tr style=\"text-align: right;\">\n",
       "      <th></th>\n",
       "      <th>Pregnancies</th>\n",
       "      <th>Glucose</th>\n",
       "      <th>BloodPressure</th>\n",
       "      <th>SkinThickness</th>\n",
       "      <th>Insulin</th>\n",
       "      <th>BMI</th>\n",
       "      <th>DiabetesPedigreeFunction</th>\n",
       "      <th>Age</th>\n",
       "      <th>Outcome</th>\n",
       "    </tr>\n",
       "  </thead>\n",
       "  <tbody>\n",
       "    <tr>\n",
       "      <th>0</th>\n",
       "      <td>6</td>\n",
       "      <td>148</td>\n",
       "      <td>72</td>\n",
       "      <td>35</td>\n",
       "      <td>0</td>\n",
       "      <td>33.6</td>\n",
       "      <td>0.627</td>\n",
       "      <td>50</td>\n",
       "      <td>1</td>\n",
       "    </tr>\n",
       "    <tr>\n",
       "      <th>1</th>\n",
       "      <td>1</td>\n",
       "      <td>85</td>\n",
       "      <td>66</td>\n",
       "      <td>29</td>\n",
       "      <td>0</td>\n",
       "      <td>26.6</td>\n",
       "      <td>0.351</td>\n",
       "      <td>31</td>\n",
       "      <td>0</td>\n",
       "    </tr>\n",
       "    <tr>\n",
       "      <th>2</th>\n",
       "      <td>8</td>\n",
       "      <td>183</td>\n",
       "      <td>64</td>\n",
       "      <td>0</td>\n",
       "      <td>0</td>\n",
       "      <td>23.3</td>\n",
       "      <td>0.672</td>\n",
       "      <td>32</td>\n",
       "      <td>1</td>\n",
       "    </tr>\n",
       "    <tr>\n",
       "      <th>3</th>\n",
       "      <td>1</td>\n",
       "      <td>89</td>\n",
       "      <td>66</td>\n",
       "      <td>23</td>\n",
       "      <td>94</td>\n",
       "      <td>28.1</td>\n",
       "      <td>0.167</td>\n",
       "      <td>21</td>\n",
       "      <td>0</td>\n",
       "    </tr>\n",
       "    <tr>\n",
       "      <th>4</th>\n",
       "      <td>0</td>\n",
       "      <td>137</td>\n",
       "      <td>40</td>\n",
       "      <td>35</td>\n",
       "      <td>168</td>\n",
       "      <td>43.1</td>\n",
       "      <td>2.288</td>\n",
       "      <td>33</td>\n",
       "      <td>1</td>\n",
       "    </tr>\n",
       "    <tr>\n",
       "      <th>...</th>\n",
       "      <td>...</td>\n",
       "      <td>...</td>\n",
       "      <td>...</td>\n",
       "      <td>...</td>\n",
       "      <td>...</td>\n",
       "      <td>...</td>\n",
       "      <td>...</td>\n",
       "      <td>...</td>\n",
       "      <td>...</td>\n",
       "    </tr>\n",
       "    <tr>\n",
       "      <th>763</th>\n",
       "      <td>10</td>\n",
       "      <td>101</td>\n",
       "      <td>76</td>\n",
       "      <td>48</td>\n",
       "      <td>180</td>\n",
       "      <td>32.9</td>\n",
       "      <td>0.171</td>\n",
       "      <td>63</td>\n",
       "      <td>0</td>\n",
       "    </tr>\n",
       "    <tr>\n",
       "      <th>764</th>\n",
       "      <td>2</td>\n",
       "      <td>122</td>\n",
       "      <td>70</td>\n",
       "      <td>27</td>\n",
       "      <td>0</td>\n",
       "      <td>36.8</td>\n",
       "      <td>0.340</td>\n",
       "      <td>27</td>\n",
       "      <td>0</td>\n",
       "    </tr>\n",
       "    <tr>\n",
       "      <th>765</th>\n",
       "      <td>5</td>\n",
       "      <td>121</td>\n",
       "      <td>72</td>\n",
       "      <td>23</td>\n",
       "      <td>112</td>\n",
       "      <td>26.2</td>\n",
       "      <td>0.245</td>\n",
       "      <td>30</td>\n",
       "      <td>0</td>\n",
       "    </tr>\n",
       "    <tr>\n",
       "      <th>766</th>\n",
       "      <td>1</td>\n",
       "      <td>126</td>\n",
       "      <td>60</td>\n",
       "      <td>0</td>\n",
       "      <td>0</td>\n",
       "      <td>30.1</td>\n",
       "      <td>0.349</td>\n",
       "      <td>47</td>\n",
       "      <td>1</td>\n",
       "    </tr>\n",
       "    <tr>\n",
       "      <th>767</th>\n",
       "      <td>1</td>\n",
       "      <td>93</td>\n",
       "      <td>70</td>\n",
       "      <td>31</td>\n",
       "      <td>0</td>\n",
       "      <td>30.4</td>\n",
       "      <td>0.315</td>\n",
       "      <td>23</td>\n",
       "      <td>0</td>\n",
       "    </tr>\n",
       "  </tbody>\n",
       "</table>\n",
       "<p>768 rows × 9 columns</p>\n",
       "</div>"
      ],
      "text/plain": [
       "     Pregnancies  Glucose  BloodPressure  SkinThickness  Insulin   BMI  \\\n",
       "0              6      148             72             35        0  33.6   \n",
       "1              1       85             66             29        0  26.6   \n",
       "2              8      183             64              0        0  23.3   \n",
       "3              1       89             66             23       94  28.1   \n",
       "4              0      137             40             35      168  43.1   \n",
       "..           ...      ...            ...            ...      ...   ...   \n",
       "763           10      101             76             48      180  32.9   \n",
       "764            2      122             70             27        0  36.8   \n",
       "765            5      121             72             23      112  26.2   \n",
       "766            1      126             60              0        0  30.1   \n",
       "767            1       93             70             31        0  30.4   \n",
       "\n",
       "     DiabetesPedigreeFunction  Age  Outcome  \n",
       "0                       0.627   50        1  \n",
       "1                       0.351   31        0  \n",
       "2                       0.672   32        1  \n",
       "3                       0.167   21        0  \n",
       "4                       2.288   33        1  \n",
       "..                        ...  ...      ...  \n",
       "763                     0.171   63        0  \n",
       "764                     0.340   27        0  \n",
       "765                     0.245   30        0  \n",
       "766                     0.349   47        1  \n",
       "767                     0.315   23        0  \n",
       "\n",
       "[768 rows x 9 columns]"
      ]
     },
     "execution_count": 3,
     "metadata": {},
     "output_type": "execute_result"
    }
   ],
   "source": [
    "#load data\n",
    "data=pd.read_csv(r\"../input/diabetes-data-set/diabetes.csv\")\n",
    "data"
   ]
  },
  {
   "cell_type": "code",
   "execution_count": 4,
   "id": "2e8e4e18",
   "metadata": {
    "execution": {
     "iopub.execute_input": "2022-07-01T18:13:35.744287Z",
     "iopub.status.busy": "2022-07-01T18:13:35.743919Z",
     "iopub.status.idle": "2022-07-01T18:13:35.789303Z",
     "shell.execute_reply": "2022-07-01T18:13:35.788241Z"
    },
    "papermill": {
     "duration": 0.060463,
     "end_time": "2022-07-01T18:13:35.791669",
     "exception": false,
     "start_time": "2022-07-01T18:13:35.731206",
     "status": "completed"
    },
    "tags": []
   },
   "outputs": [
    {
     "data": {
      "text/html": [
       "<div>\n",
       "<style scoped>\n",
       "    .dataframe tbody tr th:only-of-type {\n",
       "        vertical-align: middle;\n",
       "    }\n",
       "\n",
       "    .dataframe tbody tr th {\n",
       "        vertical-align: top;\n",
       "    }\n",
       "\n",
       "    .dataframe thead th {\n",
       "        text-align: right;\n",
       "    }\n",
       "</style>\n",
       "<table border=\"1\" class=\"dataframe\">\n",
       "  <thead>\n",
       "    <tr style=\"text-align: right;\">\n",
       "      <th></th>\n",
       "      <th>Pregnancies</th>\n",
       "      <th>Glucose</th>\n",
       "      <th>BloodPressure</th>\n",
       "      <th>SkinThickness</th>\n",
       "      <th>Insulin</th>\n",
       "      <th>BMI</th>\n",
       "      <th>DiabetesPedigreeFunction</th>\n",
       "      <th>Age</th>\n",
       "      <th>Outcome</th>\n",
       "    </tr>\n",
       "  </thead>\n",
       "  <tbody>\n",
       "    <tr>\n",
       "      <th>count</th>\n",
       "      <td>768.000000</td>\n",
       "      <td>768.000000</td>\n",
       "      <td>768.000000</td>\n",
       "      <td>768.000000</td>\n",
       "      <td>768.000000</td>\n",
       "      <td>768.000000</td>\n",
       "      <td>768.000000</td>\n",
       "      <td>768.000000</td>\n",
       "      <td>768.000000</td>\n",
       "    </tr>\n",
       "    <tr>\n",
       "      <th>mean</th>\n",
       "      <td>3.845052</td>\n",
       "      <td>120.894531</td>\n",
       "      <td>69.105469</td>\n",
       "      <td>20.536458</td>\n",
       "      <td>79.799479</td>\n",
       "      <td>31.992578</td>\n",
       "      <td>0.471876</td>\n",
       "      <td>33.240885</td>\n",
       "      <td>0.348958</td>\n",
       "    </tr>\n",
       "    <tr>\n",
       "      <th>std</th>\n",
       "      <td>3.369578</td>\n",
       "      <td>31.972618</td>\n",
       "      <td>19.355807</td>\n",
       "      <td>15.952218</td>\n",
       "      <td>115.244002</td>\n",
       "      <td>7.884160</td>\n",
       "      <td>0.331329</td>\n",
       "      <td>11.760232</td>\n",
       "      <td>0.476951</td>\n",
       "    </tr>\n",
       "    <tr>\n",
       "      <th>min</th>\n",
       "      <td>0.000000</td>\n",
       "      <td>0.000000</td>\n",
       "      <td>0.000000</td>\n",
       "      <td>0.000000</td>\n",
       "      <td>0.000000</td>\n",
       "      <td>0.000000</td>\n",
       "      <td>0.078000</td>\n",
       "      <td>21.000000</td>\n",
       "      <td>0.000000</td>\n",
       "    </tr>\n",
       "    <tr>\n",
       "      <th>25%</th>\n",
       "      <td>1.000000</td>\n",
       "      <td>99.000000</td>\n",
       "      <td>62.000000</td>\n",
       "      <td>0.000000</td>\n",
       "      <td>0.000000</td>\n",
       "      <td>27.300000</td>\n",
       "      <td>0.243750</td>\n",
       "      <td>24.000000</td>\n",
       "      <td>0.000000</td>\n",
       "    </tr>\n",
       "    <tr>\n",
       "      <th>50%</th>\n",
       "      <td>3.000000</td>\n",
       "      <td>117.000000</td>\n",
       "      <td>72.000000</td>\n",
       "      <td>23.000000</td>\n",
       "      <td>30.500000</td>\n",
       "      <td>32.000000</td>\n",
       "      <td>0.372500</td>\n",
       "      <td>29.000000</td>\n",
       "      <td>0.000000</td>\n",
       "    </tr>\n",
       "    <tr>\n",
       "      <th>75%</th>\n",
       "      <td>6.000000</td>\n",
       "      <td>140.250000</td>\n",
       "      <td>80.000000</td>\n",
       "      <td>32.000000</td>\n",
       "      <td>127.250000</td>\n",
       "      <td>36.600000</td>\n",
       "      <td>0.626250</td>\n",
       "      <td>41.000000</td>\n",
       "      <td>1.000000</td>\n",
       "    </tr>\n",
       "    <tr>\n",
       "      <th>max</th>\n",
       "      <td>17.000000</td>\n",
       "      <td>199.000000</td>\n",
       "      <td>122.000000</td>\n",
       "      <td>99.000000</td>\n",
       "      <td>846.000000</td>\n",
       "      <td>67.100000</td>\n",
       "      <td>2.420000</td>\n",
       "      <td>81.000000</td>\n",
       "      <td>1.000000</td>\n",
       "    </tr>\n",
       "  </tbody>\n",
       "</table>\n",
       "</div>"
      ],
      "text/plain": [
       "       Pregnancies     Glucose  BloodPressure  SkinThickness     Insulin  \\\n",
       "count   768.000000  768.000000     768.000000     768.000000  768.000000   \n",
       "mean      3.845052  120.894531      69.105469      20.536458   79.799479   \n",
       "std       3.369578   31.972618      19.355807      15.952218  115.244002   \n",
       "min       0.000000    0.000000       0.000000       0.000000    0.000000   \n",
       "25%       1.000000   99.000000      62.000000       0.000000    0.000000   \n",
       "50%       3.000000  117.000000      72.000000      23.000000   30.500000   \n",
       "75%       6.000000  140.250000      80.000000      32.000000  127.250000   \n",
       "max      17.000000  199.000000     122.000000      99.000000  846.000000   \n",
       "\n",
       "              BMI  DiabetesPedigreeFunction         Age     Outcome  \n",
       "count  768.000000                768.000000  768.000000  768.000000  \n",
       "mean    31.992578                  0.471876   33.240885    0.348958  \n",
       "std      7.884160                  0.331329   11.760232    0.476951  \n",
       "min      0.000000                  0.078000   21.000000    0.000000  \n",
       "25%     27.300000                  0.243750   24.000000    0.000000  \n",
       "50%     32.000000                  0.372500   29.000000    0.000000  \n",
       "75%     36.600000                  0.626250   41.000000    1.000000  \n",
       "max     67.100000                  2.420000   81.000000    1.000000  "
      ]
     },
     "execution_count": 4,
     "metadata": {},
     "output_type": "execute_result"
    }
   ],
   "source": [
    "# from here you can see min , max,std and  count of each columns\n",
    "data.describe()"
   ]
  },
  {
   "cell_type": "code",
   "execution_count": 5,
   "id": "ca0202ca",
   "metadata": {
    "execution": {
     "iopub.execute_input": "2022-07-01T18:13:35.817277Z",
     "iopub.status.busy": "2022-07-01T18:13:35.816863Z",
     "iopub.status.idle": "2022-07-01T18:13:35.833936Z",
     "shell.execute_reply": "2022-07-01T18:13:35.832705Z"
    },
    "papermill": {
     "duration": 0.0341,
     "end_time": "2022-07-01T18:13:35.837840",
     "exception": false,
     "start_time": "2022-07-01T18:13:35.803740",
     "status": "completed"
    },
    "tags": []
   },
   "outputs": [
    {
     "name": "stdout",
     "output_type": "stream",
     "text": [
      "<class 'pandas.core.frame.DataFrame'>\n",
      "RangeIndex: 768 entries, 0 to 767\n",
      "Data columns (total 9 columns):\n",
      " #   Column                    Non-Null Count  Dtype  \n",
      "---  ------                    --------------  -----  \n",
      " 0   Pregnancies               768 non-null    int64  \n",
      " 1   Glucose                   768 non-null    int64  \n",
      " 2   BloodPressure             768 non-null    int64  \n",
      " 3   SkinThickness             768 non-null    int64  \n",
      " 4   Insulin                   768 non-null    int64  \n",
      " 5   BMI                       768 non-null    float64\n",
      " 6   DiabetesPedigreeFunction  768 non-null    float64\n",
      " 7   Age                       768 non-null    int64  \n",
      " 8   Outcome                   768 non-null    int64  \n",
      "dtypes: float64(2), int64(7)\n",
      "memory usage: 54.1 KB\n"
     ]
    }
   ],
   "source": [
    "#to show number of null ,type of data and len of data\n",
    "data.info()"
   ]
  },
  {
   "cell_type": "code",
   "execution_count": 6,
   "id": "4a6f3f83",
   "metadata": {
    "execution": {
     "iopub.execute_input": "2022-07-01T18:13:35.864278Z",
     "iopub.status.busy": "2022-07-01T18:13:35.863535Z",
     "iopub.status.idle": "2022-07-01T18:13:35.874931Z",
     "shell.execute_reply": "2022-07-01T18:13:35.873406Z"
    },
    "papermill": {
     "duration": 0.02833,
     "end_time": "2022-07-01T18:13:35.877904",
     "exception": false,
     "start_time": "2022-07-01T18:13:35.849574",
     "status": "completed"
    },
    "tags": []
   },
   "outputs": [
    {
     "name": "stdout",
     "output_type": "stream",
     "text": [
      "Sum of the Dublicate in Data 0\n"
     ]
    }
   ],
   "source": [
    "# Show the sum of duplicated in Data \n",
    "DuplicatedDataSum = data.duplicated().sum()\n",
    "print(\"Sum of the Dublicate in Data\",DuplicatedDataSum)\n"
   ]
  },
  {
   "cell_type": "code",
   "execution_count": 7,
   "id": "7e908823",
   "metadata": {
    "execution": {
     "iopub.execute_input": "2022-07-01T18:13:35.903887Z",
     "iopub.status.busy": "2022-07-01T18:13:35.903482Z",
     "iopub.status.idle": "2022-07-01T18:13:36.074840Z",
     "shell.execute_reply": "2022-07-01T18:13:36.073667Z"
    },
    "papermill": {
     "duration": 0.187285,
     "end_time": "2022-07-01T18:13:36.077304",
     "exception": false,
     "start_time": "2022-07-01T18:13:35.890019",
     "status": "completed"
    },
    "tags": []
   },
   "outputs": [
    {
     "name": "stdout",
     "output_type": "stream",
     "text": [
      "Sum of the normal in Data  500\n",
      "Sum of the un normal in Data  268\n"
     ]
    },
    {
     "data": {
      "text/plain": [
       "<AxesSubplot:title={'center':'count (target)'}>"
      ]
     },
     "execution_count": 7,
     "metadata": {},
     "output_type": "execute_result"
    },
    {
     "data": {
      "image/png": "[encoded data removed]",
      "text/plain": [
       "<Figure size 432x288 with 1 Axes>"
      ]
     },
     "metadata": {
      "needs_background": "light"
     },
     "output_type": "display_data"
    }
   ],
   "source": [
    "# to  show number of patient and normal in data\n",
    "print(\"Sum of the normal in Data \",data['Outcome'].value_counts()[0])\n",
    "print(\"Sum of the un normal in Data \",data['Outcome'].value_counts()[1])\n",
    "data['Outcome'].value_counts().plot(kind='bar', title='count (target)')"
   ]
  },
  {
   "cell_type": "code",
   "execution_count": 8,
   "id": "55c6f9f4",
   "metadata": {
    "execution": {
     "iopub.execute_input": "2022-07-01T18:13:36.105007Z",
     "iopub.status.busy": "2022-07-01T18:13:36.103046Z",
     "iopub.status.idle": "2022-07-01T18:13:36.120406Z",
     "shell.execute_reply": "2022-07-01T18:13:36.119310Z"
    },
    "papermill": {
     "duration": 0.033272,
     "end_time": "2022-07-01T18:13:36.122767",
     "exception": false,
     "start_time": "2022-07-01T18:13:36.089495",
     "status": "completed"
    },
    "tags": []
   },
   "outputs": [
    {
     "data": {
      "text/html": [
       "<div>\n",
       "<style scoped>\n",
       "    .dataframe tbody tr th:only-of-type {\n",
       "        vertical-align: middle;\n",
       "    }\n",
       "\n",
       "    .dataframe tbody tr th {\n",
       "        vertical-align: top;\n",
       "    }\n",
       "\n",
       "    .dataframe thead th {\n",
       "        text-align: right;\n",
       "    }\n",
       "</style>\n",
       "<table border=\"1\" class=\"dataframe\">\n",
       "  <thead>\n",
       "    <tr style=\"text-align: right;\">\n",
       "      <th></th>\n",
       "      <th>columns</th>\n",
       "      <th>unique_value</th>\n",
       "    </tr>\n",
       "  </thead>\n",
       "  <tbody>\n",
       "    <tr>\n",
       "      <th>8</th>\n",
       "      <td>Outcome</td>\n",
       "      <td>2</td>\n",
       "    </tr>\n",
       "    <tr>\n",
       "      <th>0</th>\n",
       "      <td>Pregnancies</td>\n",
       "      <td>17</td>\n",
       "    </tr>\n",
       "    <tr>\n",
       "      <th>2</th>\n",
       "      <td>BloodPressure</td>\n",
       "      <td>47</td>\n",
       "    </tr>\n",
       "    <tr>\n",
       "      <th>3</th>\n",
       "      <td>SkinThickness</td>\n",
       "      <td>51</td>\n",
       "    </tr>\n",
       "    <tr>\n",
       "      <th>7</th>\n",
       "      <td>Age</td>\n",
       "      <td>52</td>\n",
       "    </tr>\n",
       "    <tr>\n",
       "      <th>1</th>\n",
       "      <td>Glucose</td>\n",
       "      <td>136</td>\n",
       "    </tr>\n",
       "    <tr>\n",
       "      <th>4</th>\n",
       "      <td>Insulin</td>\n",
       "      <td>186</td>\n",
       "    </tr>\n",
       "    <tr>\n",
       "      <th>5</th>\n",
       "      <td>BMI</td>\n",
       "      <td>248</td>\n",
       "    </tr>\n",
       "    <tr>\n",
       "      <th>6</th>\n",
       "      <td>DiabetesPedigreeFunction</td>\n",
       "      <td>517</td>\n",
       "    </tr>\n",
       "  </tbody>\n",
       "</table>\n",
       "</div>"
      ],
      "text/plain": [
       "                    columns  unique_value\n",
       "8                   Outcome             2\n",
       "0               Pregnancies            17\n",
       "2             BloodPressure            47\n",
       "3             SkinThickness            51\n",
       "7                       Age            52\n",
       "1                   Glucose           136\n",
       "4                   Insulin           186\n",
       "5                       BMI           248\n",
       "6  DiabetesPedigreeFunction           517"
      ]
     },
     "execution_count": 8,
     "metadata": {},
     "output_type": "execute_result"
    }
   ],
   "source": [
    "#to show unique_value for and columns\n",
    "columns=data.columns.values\n",
    "unique=[]\n",
    "data_unique={'columns':columns,'unique_value':unique}\n",
    "for column in columns:\n",
    "    unique.append(len(data[column].unique()))\n",
    "    \n",
    "data_unique= pd.DataFrame(data_unique)\n",
    "# to sort data \n",
    "data_unique.sort_values(by=['unique_value'], inplace=True)\n",
    "data_unique"
   ]
  },
  {
   "cell_type": "code",
   "execution_count": 9,
   "id": "b3471d9f",
   "metadata": {
    "execution": {
     "iopub.execute_input": "2022-07-01T18:13:36.149342Z",
     "iopub.status.busy": "2022-07-01T18:13:36.148761Z",
     "iopub.status.idle": "2022-07-01T18:13:36.182077Z",
     "shell.execute_reply": "2022-07-01T18:13:36.180891Z"
    },
    "papermill": {
     "duration": 0.049963,
     "end_time": "2022-07-01T18:13:36.184814",
     "exception": false,
     "start_time": "2022-07-01T18:13:36.134851",
     "status": "completed"
    },
    "tags": []
   },
   "outputs": [],
   "source": [
    "#to show number of patient for value of Pregnancies\n",
    "age=[]\n",
    "diabetes_patient=[]\n",
    "age_and_diabetes={'age':age,'diabetes_patient':diabetes_patient}\n",
    "\n",
    "for i in data['Age'].unique():\n",
    "    diabetes_patient.append(data[data['Age']==i]['Outcome'].sum())\n",
    "    age.append(i)\n",
    "    \n",
    "age_and_diabetes= pd.DataFrame(age_and_diabetes)\n",
    "# to sort data \n",
    "age_and_diabetes.sort_values(by=['diabetes_patient'], inplace=True)\n"
   ]
  },
  {
   "cell_type": "code",
   "execution_count": 10,
   "id": "eb0f50a3",
   "metadata": {
    "execution": {
     "iopub.execute_input": "2022-07-01T18:13:36.211414Z",
     "iopub.status.busy": "2022-07-01T18:13:36.210788Z",
     "iopub.status.idle": "2022-07-01T18:13:36.227364Z",
     "shell.execute_reply": "2022-07-01T18:13:36.226575Z"
    },
    "papermill": {
     "duration": 0.03279,
     "end_time": "2022-07-01T18:13:36.229676",
     "exception": false,
     "start_time": "2022-07-01T18:13:36.196886",
     "status": "completed"
    },
    "tags": []
   },
   "outputs": [],
   "source": [
    "#to show number of patient for every value of Pregnancies\n",
    "Pregnancies=[]\n",
    "diabetes_patient=[]\n",
    "Pregnancies_and_diabetes={'Pregnancies':Pregnancies,'diabetes_patient':diabetes_patient}\n",
    "\n",
    "for i in data['Pregnancies'].unique():\n",
    "    #print(data[data['continent']==i]['gdp_cap'].sum(),i)\n",
    "    diabetes_patient.append(data[data['Pregnancies']==i]['Outcome'].sum())\n",
    "    Pregnancies.append(i)\n",
    "    \n",
    "Pregnancies_and_diabetes= pd.DataFrame(Pregnancies_and_diabetes)\n",
    "# to sort data \n",
    "Pregnancies_and_diabetes.sort_values(by=['diabetes_patient'], inplace=True)\n",
    "\n"
   ]
  },
  {
   "cell_type": "code",
   "execution_count": 11,
   "id": "cbb4c311",
   "metadata": {
    "execution": {
     "iopub.execute_input": "2022-07-01T18:13:36.256431Z",
     "iopub.status.busy": "2022-07-01T18:13:36.256010Z",
     "iopub.status.idle": "2022-07-01T18:13:36.268005Z",
     "shell.execute_reply": "2022-07-01T18:13:36.266881Z"
    },
    "papermill": {
     "duration": 0.028309,
     "end_time": "2022-07-01T18:13:36.270297",
     "exception": false,
     "start_time": "2022-07-01T18:13:36.241988",
     "status": "completed"
    },
    "tags": []
   },
   "outputs": [
    {
     "data": {
      "text/html": [
       "<th style=\"text-align:center\"><td style=\"vertical-align:top\"><h2>age_and_diabetes</h2><table style=\"display:inline\" border=\"1\" class=\"dataframe\">\n",
       "  <thead>\n",
       "    <tr style=\"text-align: right;\">\n",
       "      <th></th>\n",
       "      <th>age</th>\n",
       "      <th>diabetes_patient</th>\n",
       "    </tr>\n",
       "  </thead>\n",
       "  <tbody>\n",
       "    <tr>\n",
       "      <th>51</th>\n",
       "      <td>68</td>\n",
       "      <td>0</td>\n",
       "    </tr>\n",
       "    <tr>\n",
       "      <th>49</th>\n",
       "      <td>64</td>\n",
       "      <td>0</td>\n",
       "    </tr>\n",
       "    <tr>\n",
       "      <th>48</th>\n",
       "      <td>81</td>\n",
       "      <td>0</td>\n",
       "    </tr>\n",
       "    <tr>\n",
       "      <th>47</th>\n",
       "      <td>72</td>\n",
       "      <td>0</td>\n",
       "    </tr>\n",
       "    <tr>\n",
       "      <th>45</th>\n",
       "      <td>63</td>\n",
       "      <td>0</td>\n",
       "    </tr>\n",
       "    <tr>\n",
       "      <th>37</th>\n",
       "      <td>69</td>\n",
       "      <td>0</td>\n",
       "    </tr>\n",
       "    <tr>\n",
       "      <th>40</th>\n",
       "      <td>65</td>\n",
       "      <td>0</td>\n",
       "    </tr>\n",
       "    <tr>\n",
       "      <th>26</th>\n",
       "      <td>48</td>\n",
       "      <td>1</td>\n",
       "    </tr>\n",
       "    <tr>\n",
       "      <th>36</th>\n",
       "      <td>61</td>\n",
       "      <td>1</td>\n",
       "    </tr>\n",
       "    <tr>\n",
       "      <th>39</th>\n",
       "      <td>55</td>\n",
       "      <td>1</td>\n",
       "    </tr>\n",
       "    <tr>\n",
       "      <th>11</th>\n",
       "      <td>57</td>\n",
       "      <td>1</td>\n",
       "    </tr>\n",
       "    <tr>\n",
       "      <th>50</th>\n",
       "      <td>70</td>\n",
       "      <td>1</td>\n",
       "    </tr>\n",
       "    <tr>\n",
       "      <th>46</th>\n",
       "      <td>67</td>\n",
       "      <td>1</td>\n",
       "    </tr>\n",
       "    <tr>\n",
       "      <th>24</th>\n",
       "      <td>56</td>\n",
       "      <td>2</td>\n",
       "    </tr>\n",
       "    <tr>\n",
       "      <th>38</th>\n",
       "      <td>62</td>\n",
       "      <td>2</td>\n",
       "    </tr>\n",
       "    <tr>\n",
       "      <th>43</th>\n",
       "      <td>66</td>\n",
       "      <td>2</td>\n",
       "    </tr>\n",
       "    <tr>\n",
       "      <th>19</th>\n",
       "      <td>60</td>\n",
       "      <td>2</td>\n",
       "    </tr>\n",
       "    <tr>\n",
       "      <th>12</th>\n",
       "      <td>59</td>\n",
       "      <td>2</td>\n",
       "    </tr>\n",
       "    <tr>\n",
       "      <th>44</th>\n",
       "      <td>49</td>\n",
       "      <td>3</td>\n",
       "    </tr>\n",
       "    <tr>\n",
       "      <th>33</th>\n",
       "      <td>39</td>\n",
       "      <td>3</td>\n",
       "    </tr>\n",
       "    <tr>\n",
       "      <th>30</th>\n",
       "      <td>58</td>\n",
       "      <td>3</td>\n",
       "    </tr>\n",
       "    <tr>\n",
       "      <th>41</th>\n",
       "      <td>47</td>\n",
       "      <td>4</td>\n",
       "    </tr>\n",
       "    <tr>\n",
       "      <th>9</th>\n",
       "      <td>54</td>\n",
       "      <td>4</td>\n",
       "    </tr>\n",
       "    <tr>\n",
       "      <th>8</th>\n",
       "      <td>53</td>\n",
       "      <td>4</td>\n",
       "    </tr>\n",
       "    <tr>\n",
       "      <th>10</th>\n",
       "      <td>34</td>\n",
       "      <td>4</td>\n",
       "    </tr>\n",
       "    <tr>\n",
       "      <th>32</th>\n",
       "      <td>44</td>\n",
       "      <td>5</td>\n",
       "    </tr>\n",
       "    <tr>\n",
       "      <th>0</th>\n",
       "      <td>50</td>\n",
       "      <td>5</td>\n",
       "    </tr>\n",
       "    <tr>\n",
       "      <th>3</th>\n",
       "      <td>21</td>\n",
       "      <td>5</td>\n",
       "    </tr>\n",
       "    <tr>\n",
       "      <th>22</th>\n",
       "      <td>35</td>\n",
       "      <td>5</td>\n",
       "    </tr>\n",
       "    <tr>\n",
       "      <th>13</th>\n",
       "      <td>51</td>\n",
       "      <td>5</td>\n",
       "    </tr>\n",
       "    <tr>\n",
       "      <th>27</th>\n",
       "      <td>40</td>\n",
       "      <td>6</td>\n",
       "    </tr>\n",
       "    <tr>\n",
       "      <th>5</th>\n",
       "      <td>30</td>\n",
       "      <td>6</td>\n",
       "    </tr>\n",
       "    <tr>\n",
       "      <th>25</th>\n",
       "      <td>37</td>\n",
       "      <td>6</td>\n",
       "    </tr>\n",
       "    <tr>\n",
       "      <th>42</th>\n",
       "      <td>52</td>\n",
       "      <td>7</td>\n",
       "    </tr>\n",
       "    <tr>\n",
       "      <th>35</th>\n",
       "      <td>23</td>\n",
       "      <td>7</td>\n",
       "    </tr>\n",
       "    <tr>\n",
       "      <th>23</th>\n",
       "      <td>46</td>\n",
       "      <td>7</td>\n",
       "    </tr>\n",
       "    <tr>\n",
       "      <th>31</th>\n",
       "      <td>42</td>\n",
       "      <td>7</td>\n",
       "    </tr>\n",
       "    <tr>\n",
       "      <th>29</th>\n",
       "      <td>24</td>\n",
       "      <td>8</td>\n",
       "    </tr>\n",
       "    <tr>\n",
       "      <th>6</th>\n",
       "      <td>26</td>\n",
       "      <td>8</td>\n",
       "    </tr>\n",
       "    <tr>\n",
       "      <th>14</th>\n",
       "      <td>27</td>\n",
       "      <td>8</td>\n",
       "    </tr>\n",
       "    <tr>\n",
       "      <th>21</th>\n",
       "      <td>45</td>\n",
       "      <td>8</td>\n",
       "    </tr>\n",
       "    <tr>\n",
       "      <th>2</th>\n",
       "      <td>32</td>\n",
       "      <td>9</td>\n",
       "    </tr>\n",
       "    <tr>\n",
       "      <th>4</th>\n",
       "      <td>33</td>\n",
       "      <td>10</td>\n",
       "    </tr>\n",
       "    <tr>\n",
       "      <th>20</th>\n",
       "      <td>28</td>\n",
       "      <td>10</td>\n",
       "    </tr>\n",
       "    <tr>\n",
       "      <th>18</th>\n",
       "      <td>38</td>\n",
       "      <td>10</td>\n",
       "    </tr>\n",
       "    <tr>\n",
       "      <th>34</th>\n",
       "      <td>36</td>\n",
       "      <td>10</td>\n",
       "    </tr>\n",
       "    <tr>\n",
       "      <th>16</th>\n",
       "      <td>43</td>\n",
       "      <td>11</td>\n",
       "    </tr>\n",
       "    <tr>\n",
       "      <th>17</th>\n",
       "      <td>22</td>\n",
       "      <td>11</td>\n",
       "    </tr>\n",
       "    <tr>\n",
       "      <th>1</th>\n",
       "      <td>31</td>\n",
       "      <td>13</td>\n",
       "    </tr>\n",
       "    <tr>\n",
       "      <th>7</th>\n",
       "      <td>29</td>\n",
       "      <td>13</td>\n",
       "    </tr>\n",
       "    <tr>\n",
       "      <th>15</th>\n",
       "      <td>41</td>\n",
       "      <td>13</td>\n",
       "    </tr>\n",
       "    <tr>\n",
       "      <th>28</th>\n",
       "      <td>25</td>\n",
       "      <td>14</td>\n",
       "    </tr>\n",
       "  </tbody>\n",
       "</table style=\"display:inline\"></td></th><th style=\"text-align:center\"><td style=\"vertical-align:top\"><h2>Pregnancies_and_diabetes</h2><table style=\"display:inline\" border=\"1\" class=\"dataframe\">\n",
       "  <thead>\n",
       "    <tr style=\"text-align: right;\">\n",
       "      <th></th>\n",
       "      <th>Pregnancies</th>\n",
       "      <th>diabetes_patient</th>\n",
       "    </tr>\n",
       "  </thead>\n",
       "  <tbody>\n",
       "    <tr>\n",
       "      <th>14</th>\n",
       "      <td>17</td>\n",
       "      <td>1</td>\n",
       "    </tr>\n",
       "    <tr>\n",
       "      <th>13</th>\n",
       "      <td>15</td>\n",
       "      <td>1</td>\n",
       "    </tr>\n",
       "    <tr>\n",
       "      <th>16</th>\n",
       "      <td>14</td>\n",
       "      <td>2</td>\n",
       "    </tr>\n",
       "    <tr>\n",
       "      <th>15</th>\n",
       "      <td>12</td>\n",
       "      <td>4</td>\n",
       "    </tr>\n",
       "    <tr>\n",
       "      <th>12</th>\n",
       "      <td>13</td>\n",
       "      <td>5</td>\n",
       "    </tr>\n",
       "    <tr>\n",
       "      <th>11</th>\n",
       "      <td>11</td>\n",
       "      <td>7</td>\n",
       "    </tr>\n",
       "    <tr>\n",
       "      <th>6</th>\n",
       "      <td>10</td>\n",
       "      <td>10</td>\n",
       "    </tr>\n",
       "    <tr>\n",
       "      <th>0</th>\n",
       "      <td>6</td>\n",
       "      <td>16</td>\n",
       "    </tr>\n",
       "    <tr>\n",
       "      <th>10</th>\n",
       "      <td>9</td>\n",
       "      <td>18</td>\n",
       "    </tr>\n",
       "    <tr>\n",
       "      <th>7</th>\n",
       "      <td>2</td>\n",
       "      <td>19</td>\n",
       "    </tr>\n",
       "    <tr>\n",
       "      <th>4</th>\n",
       "      <td>5</td>\n",
       "      <td>21</td>\n",
       "    </tr>\n",
       "    <tr>\n",
       "      <th>2</th>\n",
       "      <td>8</td>\n",
       "      <td>22</td>\n",
       "    </tr>\n",
       "    <tr>\n",
       "      <th>8</th>\n",
       "      <td>4</td>\n",
       "      <td>23</td>\n",
       "    </tr>\n",
       "    <tr>\n",
       "      <th>9</th>\n",
       "      <td>7</td>\n",
       "      <td>25</td>\n",
       "    </tr>\n",
       "    <tr>\n",
       "      <th>5</th>\n",
       "      <td>3</td>\n",
       "      <td>27</td>\n",
       "    </tr>\n",
       "    <tr>\n",
       "      <th>1</th>\n",
       "      <td>1</td>\n",
       "      <td>29</td>\n",
       "    </tr>\n",
       "    <tr>\n",
       "      <th>3</th>\n",
       "      <td>0</td>\n",
       "      <td>38</td>\n",
       "    </tr>\n",
       "  </tbody>\n",
       "</table style=\"display:inline\"></td></th>"
      ]
     },
     "metadata": {},
     "output_type": "display_data"
    }
   ],
   "source": [
    "#to display to columns age_and_diabetes,Pregnancies_and_diabetes\n",
    "display_side_by_side(age_and_diabetes,Pregnancies_and_diabetes ,titles=['age_and_diabetes','Pregnancies_and_diabetes'])"
   ]
  },
  {
   "cell_type": "code",
   "execution_count": 12,
   "id": "4d92f155",
   "metadata": {
    "execution": {
     "iopub.execute_input": "2022-07-01T18:13:36.297790Z",
     "iopub.status.busy": "2022-07-01T18:13:36.297385Z",
     "iopub.status.idle": "2022-07-01T18:13:36.302397Z",
     "shell.execute_reply": "2022-07-01T18:13:36.301273Z"
    },
    "papermill": {
     "duration": 0.02154,
     "end_time": "2022-07-01T18:13:36.304698",
     "exception": false,
     "start_time": "2022-07-01T18:13:36.283158",
     "status": "completed"
    },
    "tags": []
   },
   "outputs": [],
   "source": [
    "# the data show as age increases ,cases decreasese\n",
    "# the data show as Pregnancies increases ,cases decreasese"
   ]
  },
  {
   "cell_type": "code",
   "execution_count": 13,
   "id": "ee4b57b9",
   "metadata": {
    "execution": {
     "iopub.execute_input": "2022-07-01T18:13:36.332029Z",
     "iopub.status.busy": "2022-07-01T18:13:36.331648Z",
     "iopub.status.idle": "2022-07-01T18:13:36.702155Z",
     "shell.execute_reply": "2022-07-01T18:13:36.700898Z"
    },
    "papermill": {
     "duration": 0.387271,
     "end_time": "2022-07-01T18:13:36.704737",
     "exception": false,
     "start_time": "2022-07-01T18:13:36.317466",
     "status": "completed"
    },
    "tags": []
   },
   "outputs": [
    {
     "data": {
      "image/png": "[encoded data removed]",
      "text/plain": [
       "<Figure size 432x288 with 2 Axes>"
      ]
     },
     "metadata": {
      "needs_background": "light"
     },
     "output_type": "display_data"
    }
   ],
   "source": [
    "# blot two data frame age_and_diabetes,Pregnancies_and_diabetes\n",
    "fig,axs=plt.subplots(1,2)\n",
    "\n",
    "axs[0].bar( age_and_diabetes['age'],age_and_diabetes['diabetes_patient'])\n",
    "axs[1].bar(Pregnancies_and_diabetes['Pregnancies'], height = Pregnancies_and_diabetes['diabetes_patient'])\n",
    "plt.subplots_adjust(left=0,right=1.9,bottom=0,top=1)\n",
    "\n",
    "plt.show()\n"
   ]
  },
  {
   "cell_type": "code",
   "execution_count": 14,
   "id": "1c7de9f1",
   "metadata": {
    "execution": {
     "iopub.execute_input": "2022-07-01T18:13:36.733424Z",
     "iopub.status.busy": "2022-07-01T18:13:36.732990Z",
     "iopub.status.idle": "2022-07-01T18:13:37.796861Z",
     "shell.execute_reply": "2022-07-01T18:13:37.795567Z"
    },
    "papermill": {
     "duration": 1.081662,
     "end_time": "2022-07-01T18:13:37.800075",
     "exception": false,
     "start_time": "2022-07-01T18:13:36.718413",
     "status": "completed"
    },
    "tags": []
   },
   "outputs": [
    {
     "data": {
      "image/png": "[encoded data removed]",
      "text/plain": [
       "<Figure size 432x288 with 8 Axes>"
      ]
     },
     "metadata": {
      "needs_background": "light"
     },
     "output_type": "display_data"
    }
   ],
   "source": [
    "#to plot normal distrbution for normal sample and patient sample for each columns\n",
    "fig,axs=plt.subplots(4,2)\n",
    "feature=list(data.columns)\n",
    "index=-1\n",
    "a={index:i for index,i in enumerate(data.columns.values)}\n",
    "for row in range(4):\n",
    "    for columns in range(2):\n",
    "        index+=1\n",
    "\n",
    "        data.sort_values(by=a[index], inplace=True)\n",
    "        normal=data[data['Outcome']==0]\n",
    "        diabetic=data[data['Outcome']==1]\n",
    "        fit = stats.norm.pdf(normal[a[index]], np.mean(normal[a[index]]), np.std(normal[a[index]]))  #this is a fitting indeed\n",
    "        axs[row,columns].plot(normal[a[index]],fit, color='r', linewidth=5, label=\"normal\")\n",
    "        fit = stats.norm.pdf(diabetic[a[index]], np.mean(diabetic[a[index]]), np.std(diabetic[a[index]]))\n",
    "        axs[row,columns].plot(diabetic[a[index]],fit, color='b', linewidth=5,label=\"diabetic\")\n",
    "        axs[row,columns].legend(loc=1)\n",
    "\n",
    "        \n",
    "plt.subplots_adjust(left=0,right=1.9,bottom=0,top=1.9)\n"
   ]
  },
  {
   "cell_type": "code",
   "execution_count": 15,
   "id": "4537cc25",
   "metadata": {
    "execution": {
     "iopub.execute_input": "2022-07-01T18:13:37.832299Z",
     "iopub.status.busy": "2022-07-01T18:13:37.831579Z",
     "iopub.status.idle": "2022-07-01T18:13:37.836634Z",
     "shell.execute_reply": "2022-07-01T18:13:37.835697Z"
    },
    "papermill": {
     "duration": 0.023978,
     "end_time": "2022-07-01T18:13:37.839240",
     "exception": false,
     "start_time": "2022-07-01T18:13:37.815262",
     "status": "completed"
    },
    "tags": []
   },
   "outputs": [],
   "source": [
    "#the plot show the data is too intertwined"
   ]
  },
  {
   "cell_type": "code",
   "execution_count": 16,
   "id": "fd573492",
   "metadata": {
    "execution": {
     "iopub.execute_input": "2022-07-01T18:13:37.871493Z",
     "iopub.status.busy": "2022-07-01T18:13:37.871061Z",
     "iopub.status.idle": "2022-07-01T18:13:39.085703Z",
     "shell.execute_reply": "2022-07-01T18:13:39.084479Z"
    },
    "papermill": {
     "duration": 1.233854,
     "end_time": "2022-07-01T18:13:39.088272",
     "exception": false,
     "start_time": "2022-07-01T18:13:37.854418",
     "status": "completed"
    },
    "tags": []
   },
   "outputs": [
    {
     "data": {
      "image/png": "[encoded data removed]",
      "text/plain": [
       "<Figure size 432x288 with 8 Axes>"
      ]
     },
     "metadata": {
      "needs_background": "light"
     },
     "output_type": "display_data"
    }
   ],
   "source": [
    "#plot each columns with outcome\n",
    "fig,axs=plt.subplots(4,2)\n",
    "feature=list(data.columns)\n",
    "index=-1\n",
    "for row in range(4):\n",
    "    for columns in range(2):\n",
    "        index+=1\n",
    "        axs[row,columns].scatter(data[feature[index]],data['Outcome'], label=f\" {feature[index]}\")\n",
    "        axs[row,columns].legend(loc=2)\n",
    "\n",
    "plt.subplots_adjust(left=0,right=1.9,bottom=0,top=1.9)\n"
   ]
  },
  {
   "cell_type": "code",
   "execution_count": 17,
   "id": "844bc7d2",
   "metadata": {
    "execution": {
     "iopub.execute_input": "2022-07-01T18:13:39.121928Z",
     "iopub.status.busy": "2022-07-01T18:13:39.121550Z",
     "iopub.status.idle": "2022-07-01T18:13:39.730724Z",
     "shell.execute_reply": "2022-07-01T18:13:39.729684Z"
    },
    "papermill": {
     "duration": 0.629162,
     "end_time": "2022-07-01T18:13:39.733239",
     "exception": false,
     "start_time": "2022-07-01T18:13:39.104077",
     "status": "completed"
    },
    "tags": []
   },
   "outputs": [
    {
     "data": {
      "text/plain": [
       "<AxesSubplot:>"
      ]
     },
     "execution_count": 17,
     "metadata": {},
     "output_type": "execute_result"
    },
    {
     "data": {
      "image/png": "[encoded data removed]",
      "text/plain": [
       "<Figure size 720x720 with 2 Axes>"
      ]
     },
     "metadata": {
      "needs_background": "light"
     },
     "output_type": "display_data"
    }
   ],
   "source": [
    "#plot heatmap for correration\n",
    "corrmat = data.corr()\n",
    "plt.figure(figsize=(10,10))\n",
    "sns.heatmap(corrmat, vmax=.8, square=True,annot=True)"
   ]
  },
  {
   "cell_type": "code",
   "execution_count": 18,
   "id": "9501e978",
   "metadata": {
    "execution": {
     "iopub.execute_input": "2022-07-01T18:13:39.769604Z",
     "iopub.status.busy": "2022-07-01T18:13:39.768477Z",
     "iopub.status.idle": "2022-07-01T18:13:39.777386Z",
     "shell.execute_reply": "2022-07-01T18:13:39.775563Z"
    },
    "papermill": {
     "duration": 0.030484,
     "end_time": "2022-07-01T18:13:39.780749",
     "exception": false,
     "start_time": "2022-07-01T18:13:39.750265",
     "status": "completed"
    },
    "tags": []
   },
   "outputs": [
    {
     "name": "stdout",
     "output_type": "stream",
     "text": [
      "len of data  768\n"
     ]
    }
   ],
   "source": [
    "x = data.drop('Outcome', axis=1)\n",
    "y = data['Outcome']\n",
    "print('len of data ',len(data))"
   ]
  },
  {
   "cell_type": "code",
   "execution_count": 19,
   "id": "85a7eb33",
   "metadata": {
    "execution": {
     "iopub.execute_input": "2022-07-01T18:13:39.817157Z",
     "iopub.status.busy": "2022-07-01T18:13:39.816069Z",
     "iopub.status.idle": "2022-07-01T18:13:39.821302Z",
     "shell.execute_reply": "2022-07-01T18:13:39.819940Z"
    },
    "papermill": {
     "duration": 0.025697,
     "end_time": "2022-07-01T18:13:39.823546",
     "exception": false,
     "start_time": "2022-07-01T18:13:39.797849",
     "status": "completed"
    },
    "tags": []
   },
   "outputs": [],
   "source": [
    "# len data is very small and therefore we use algrithm not complicated like logistic regreesion"
   ]
  },
  {
   "cell_type": "code",
   "execution_count": 20,
   "id": "398ceeae",
   "metadata": {
    "execution": {
     "iopub.execute_input": "2022-07-01T18:13:39.859908Z",
     "iopub.status.busy": "2022-07-01T18:13:39.857913Z",
     "iopub.status.idle": "2022-07-01T18:13:39.868988Z",
     "shell.execute_reply": "2022-07-01T18:13:39.867123Z"
    },
    "papermill": {
     "duration": 0.032209,
     "end_time": "2022-07-01T18:13:39.872319",
     "exception": false,
     "start_time": "2022-07-01T18:13:39.840110",
     "status": "completed"
    },
    "tags": []
   },
   "outputs": [
    {
     "name": "stdout",
     "output_type": "stream",
     "text": [
      "x_train shape is: (668, 8)\n",
      "x_test shape is: (100, 8)\n",
      "y_train shape is: (668,)\n",
      "y_test shape is: (100,)\n"
     ]
    }
   ],
   "source": [
    "# we split data to train and test\n",
    "x_train,x_test,y_train,y_test=train_test_split(x,y,test_size=100,random_state=0)\n",
    "print(\"x_train shape is:\",x_train.shape)\n",
    "print(\"x_test shape is:\",x_test.shape)\n",
    "print(\"y_train shape is:\",y_train.shape)\n",
    "print(\"y_test shape is:\",y_test.shape)"
   ]
  },
  {
   "cell_type": "code",
   "execution_count": 21,
   "id": "78715f1f",
   "metadata": {
    "execution": {
     "iopub.execute_input": "2022-07-01T18:13:39.908513Z",
     "iopub.status.busy": "2022-07-01T18:13:39.907795Z",
     "iopub.status.idle": "2022-07-01T18:13:39.975113Z",
     "shell.execute_reply": "2022-07-01T18:13:39.973679Z"
    },
    "papermill": {
     "duration": 0.088178,
     "end_time": "2022-07-01T18:13:39.977721",
     "exception": false,
     "start_time": "2022-07-01T18:13:39.889543",
     "status": "completed"
    },
    "tags": []
   },
   "outputs": [
    {
     "name": "stdout",
     "output_type": "stream",
     "text": [
      "Random Forest Regressor Train Score is :  0.9895209580838323\n",
      "Random Forest Regressor Test Score is :  0.72\n",
      "Random Forest Regressor No. of features are :  8\n",
      "----------------------------------------------------\n",
      "Predicted Value for Random Forest Regressor is :  [0 0 1 0 1 0 1 0 0 0]\n"
     ]
    },
    {
     "name": "stderr",
     "output_type": "stream",
     "text": [
      "/opt/conda/lib/python3.7/site-packages/sklearn/utils/deprecation.py:103: FutureWarning: Attribute `n_features_` was deprecated in version 1.0 and will be removed in 1.2. Use `n_features_in_` instead.\n",
      "  warnings.warn(msg, category=FutureWarning)\n"
     ]
    }
   ],
   "source": [
    "#this complicated algrithm and the expected we will suffer from over fitting\n",
    "RandomForestRegressorModel = RandomForestClassifier(n_estimators=15,max_depth=10, random_state=33,)\n",
    "RandomForestRegressorModel.fit(x_train, y_train)\n",
    "\n",
    "print('Random Forest Regressor Train Score is : ' , RandomForestRegressorModel.score(x_train, y_train))\n",
    "print('Random Forest Regressor Test Score is : ' , RandomForestRegressorModel.score(x_test, y_test))\n",
    "print('Random Forest Regressor No. of features are : ' , RandomForestRegressorModel.n_features_)\n",
    "print('----------------------------------------------------')\n",
    "\n",
    "y_pred = RandomForestRegressorModel.predict(x_test)\n",
    "print('Predicted Value for Random Forest Regressor is : ' , y_pred[:10])"
   ]
  },
  {
   "cell_type": "code",
   "execution_count": 22,
   "id": "03dfb1d6",
   "metadata": {
    "execution": {
     "iopub.execute_input": "2022-07-01T18:13:40.013816Z",
     "iopub.status.busy": "2022-07-01T18:13:40.012709Z",
     "iopub.status.idle": "2022-07-01T18:13:40.017922Z",
     "shell.execute_reply": "2022-07-01T18:13:40.017105Z"
    },
    "papermill": {
     "duration": 0.025633,
     "end_time": "2022-07-01T18:13:40.020226",
     "exception": false,
     "start_time": "2022-07-01T18:13:39.994593",
     "status": "completed"
    },
    "tags": []
   },
   "outputs": [],
   "source": [
    "#the expected is true and algrithm suffer from over fitting"
   ]
  },
  {
   "cell_type": "code",
   "execution_count": 23,
   "id": "e9f69501",
   "metadata": {
    "execution": {
     "iopub.execute_input": "2022-07-01T18:13:40.055618Z",
     "iopub.status.busy": "2022-07-01T18:13:40.055196Z",
     "iopub.status.idle": "2022-07-01T18:13:40.106612Z",
     "shell.execute_reply": "2022-07-01T18:13:40.105442Z"
    },
    "papermill": {
     "duration": 0.072622,
     "end_time": "2022-07-01T18:13:40.109492",
     "exception": false,
     "start_time": "2022-07-01T18:13:40.036870",
     "status": "completed"
    },
    "tags": []
   },
   "outputs": [
    {
     "name": "stdout",
     "output_type": "stream",
     "text": [
      "LogisticRegression Train Score is :  0.781437125748503\n",
      "LogisticRegression Test Score is :  0.77\n"
     ]
    },
    {
     "name": "stderr",
     "output_type": "stream",
     "text": [
      "/opt/conda/lib/python3.7/site-packages/sklearn/linear_model/_logistic.py:818: ConvergenceWarning: lbfgs failed to converge (status=1):\n",
      "STOP: TOTAL NO. of ITERATIONS REACHED LIMIT.\n",
      "\n",
      "Increase the number of iterations (max_iter) or scale the data as shown in:\n",
      "    https://scikit-learn.org/stable/modules/preprocessing.html\n",
      "Please also refer to the documentation for alternative solver options:\n",
      "    https://scikit-learn.org/stable/modules/linear_model.html#logistic-regression\n",
      "  extra_warning_msg=_LOGISTIC_SOLVER_CONVERGENCE_MSG,\n"
     ]
    }
   ],
   "source": [
    "#we use LogisticRegression to overcome over fitting\n",
    "from sklearn.linear_model import LogisticRegression\n",
    "\n",
    "model = LogisticRegression()\n",
    "\n",
    "\n",
    "\n",
    "# fit the model with data\n",
    "model.fit(x_train,y_train)\n",
    "\n",
    "#\n",
    "y_pred=model.predict(x_test)\n",
    "\n",
    "# Model Accuracy, how often is the classifier correct?\n",
    "print('LogisticRegression Train Score is : ' , model.score(x_train, y_train))\n",
    "\n",
    "print('LogisticRegression Test Score is : ' , model.score(x_test, y_test))\n"
   ]
  },
  {
   "cell_type": "code",
   "execution_count": 24,
   "id": "88dd7cec",
   "metadata": {
    "execution": {
     "iopub.execute_input": "2022-07-01T18:13:40.145511Z",
     "iopub.status.busy": "2022-07-01T18:13:40.144699Z",
     "iopub.status.idle": "2022-07-01T18:13:40.332869Z",
     "shell.execute_reply": "2022-07-01T18:13:40.332031Z"
    },
    "papermill": {
     "duration": 0.208952,
     "end_time": "2022-07-01T18:13:40.335232",
     "exception": false,
     "start_time": "2022-07-01T18:13:40.126280",
     "status": "completed"
    },
    "tags": []
   },
   "outputs": [
    {
     "data": {
      "image/png": "[encoded data removed]",
      "text/plain": [
       "<Figure size 432x288 with 1 Axes>"
      ]
     },
     "metadata": {
      "needs_background": "light"
     },
     "output_type": "display_data"
    }
   ],
   "source": [
    "# we plot auc\n",
    "y_pred_proba = model.predict_proba(x_test)[::,1]\n",
    "fpr, tpr, thre = roc_curve(y_test,  y_pred_proba)\n",
    "auc = roc_auc_score(y_test, y_pred_proba)\n",
    "plt.plot(fpr,tpr,label=\"data 1, auc=\"+str(auc))\n",
    "plt.legend(loc=4)\n",
    "plt.show()"
   ]
  },
  {
   "cell_type": "code",
   "execution_count": 25,
   "id": "779d2ec1",
   "metadata": {
    "execution": {
     "iopub.execute_input": "2022-07-01T18:13:40.371417Z",
     "iopub.status.busy": "2022-07-01T18:13:40.370995Z",
     "iopub.status.idle": "2022-07-01T18:13:40.604076Z",
     "shell.execute_reply": "2022-07-01T18:13:40.602892Z"
    },
    "papermill": {
     "duration": 0.254236,
     "end_time": "2022-07-01T18:13:40.606511",
     "exception": false,
     "start_time": "2022-07-01T18:13:40.352275",
     "status": "completed"
    },
    "tags": []
   },
   "outputs": [
    {
     "data": {
      "text/plain": [
       "<AxesSubplot:>"
      ]
     },
     "execution_count": 25,
     "metadata": {},
     "output_type": "execute_result"
    },
    {
     "data": {
      "image/png": "[encoded data removed]",
      "text/plain": [
       "<Figure size 432x288 with 2 Axes>"
      ]
     },
     "metadata": {
      "needs_background": "light"
     },
     "output_type": "display_data"
    }
   ],
   "source": [
    "confusion_matrix =confusion_matrix(y_test,y_pred)\n",
    "sns.heatmap(confusion_matrix, vmax=.8, square=True,annot=True)"
   ]
  },
  {
   "cell_type": "code",
   "execution_count": 26,
   "id": "73d795e9",
   "metadata": {
    "execution": {
     "iopub.execute_input": "2022-07-01T18:13:40.645000Z",
     "iopub.status.busy": "2022-07-01T18:13:40.642848Z",
     "iopub.status.idle": "2022-07-01T18:13:40.651409Z",
     "shell.execute_reply": "2022-07-01T18:13:40.650561Z"
    },
    "papermill": {
     "duration": 0.029768,
     "end_time": "2022-07-01T18:13:40.653763",
     "exception": false,
     "start_time": "2022-07-01T18:13:40.623995",
     "status": "completed"
    },
    "tags": []
   },
   "outputs": [],
   "source": [
    "#to know index of False_positive in data\n",
    "Covid=y_test[y_test==1]\n",
    "Covid=list(Covid.index)\n",
    "\n",
    "Normal=y_test[y_pred==0]\n",
    "Normal=list(Normal.index)\n",
    "\n",
    "False_positive=[ e for e in Covid if e in Normal ]"
   ]
  },
  {
   "cell_type": "code",
   "execution_count": 27,
   "id": "54d4a5c8",
   "metadata": {
    "execution": {
     "iopub.execute_input": "2022-07-01T18:13:40.691153Z",
     "iopub.status.busy": "2022-07-01T18:13:40.690233Z",
     "iopub.status.idle": "2022-07-01T18:13:40.697500Z",
     "shell.execute_reply": "2022-07-01T18:13:40.696556Z"
    },
    "papermill": {
     "duration": 0.028716,
     "end_time": "2022-07-01T18:13:40.699875",
     "exception": false,
     "start_time": "2022-07-01T18:13:40.671159",
     "status": "completed"
    },
    "tags": []
   },
   "outputs": [
    {
     "data": {
      "text/plain": [
       "17"
      ]
     },
     "execution_count": 27,
     "metadata": {},
     "output_type": "execute_result"
    }
   ],
   "source": [
    "len(False_positive)"
   ]
  },
  {
   "cell_type": "code",
   "execution_count": 28,
   "id": "f9d408bd",
   "metadata": {
    "execution": {
     "iopub.execute_input": "2022-07-01T18:13:40.737547Z",
     "iopub.status.busy": "2022-07-01T18:13:40.736667Z",
     "iopub.status.idle": "2022-07-01T18:13:40.744317Z",
     "shell.execute_reply": "2022-07-01T18:13:40.743396Z"
    },
    "papermill": {
     "duration": 0.029324,
     "end_time": "2022-07-01T18:13:40.746881",
     "exception": false,
     "start_time": "2022-07-01T18:13:40.717557",
     "status": "completed"
    },
    "tags": []
   },
   "outputs": [],
   "source": [
    "#to know index of False_negative in data\n",
    "\n",
    "Covid=y_test[y_test==0]\n",
    "Covid=list(Covid.index)\n",
    "\n",
    "Normal=y_test[y_pred==1]\n",
    "Normal=list(Normal.index)\n",
    "False_negative=[ e for e in Covid if e in Normal ]"
   ]
  },
  {
   "cell_type": "code",
   "execution_count": 29,
   "id": "86f1fe92",
   "metadata": {
    "execution": {
     "iopub.execute_input": "2022-07-01T18:13:40.784625Z",
     "iopub.status.busy": "2022-07-01T18:13:40.784211Z",
     "iopub.status.idle": "2022-07-01T18:13:40.791226Z",
     "shell.execute_reply": "2022-07-01T18:13:40.790375Z"
    },
    "papermill": {
     "duration": 0.029168,
     "end_time": "2022-07-01T18:13:40.793591",
     "exception": false,
     "start_time": "2022-07-01T18:13:40.764423",
     "status": "completed"
    },
    "tags": []
   },
   "outputs": [
    {
     "data": {
      "text/plain": [
       "6"
      ]
     },
     "execution_count": 29,
     "metadata": {},
     "output_type": "execute_result"
    }
   ],
   "source": [
    "len(False_negative)"
   ]
  },
  {
   "cell_type": "code",
   "execution_count": 30,
   "id": "c37db9a8",
   "metadata": {
    "execution": {
     "iopub.execute_input": "2022-07-01T18:13:40.831603Z",
     "iopub.status.busy": "2022-07-01T18:13:40.830837Z",
     "iopub.status.idle": "2022-07-01T18:13:40.847498Z",
     "shell.execute_reply": "2022-07-01T18:13:40.846538Z"
    },
    "papermill": {
     "duration": 0.038204,
     "end_time": "2022-07-01T18:13:40.849835",
     "exception": false,
     "start_time": "2022-07-01T18:13:40.811631",
     "status": "completed"
    },
    "tags": []
   },
   "outputs": [
    {
     "data": {
      "text/html": [
       "<th style=\"text-align:center\"><td style=\"vertical-align:top\"><h2>False_positive</h2><table style=\"display:inline\" border=\"1\" class=\"dataframe\">\n",
       "  <thead>\n",
       "    <tr style=\"text-align: right;\">\n",
       "      <th></th>\n",
       "      <th>Pregnancies</th>\n",
       "      <th>Glucose</th>\n",
       "      <th>BloodPressure</th>\n",
       "      <th>SkinThickness</th>\n",
       "      <th>Insulin</th>\n",
       "      <th>BMI</th>\n",
       "      <th>DiabetesPedigreeFunction</th>\n",
       "      <th>Age</th>\n",
       "      <th>Outcome</th>\n",
       "    </tr>\n",
       "  </thead>\n",
       "  <tbody>\n",
       "    <tr>\n",
       "      <th>219</th>\n",
       "      <td>5</td>\n",
       "      <td>112</td>\n",
       "      <td>66</td>\n",
       "      <td>0</td>\n",
       "      <td>0</td>\n",
       "      <td>37.8</td>\n",
       "      <td>0.261</td>\n",
       "      <td>41</td>\n",
       "      <td>1</td>\n",
       "    </tr>\n",
       "    <tr>\n",
       "      <th>199</th>\n",
       "      <td>4</td>\n",
       "      <td>148</td>\n",
       "      <td>60</td>\n",
       "      <td>27</td>\n",
       "      <td>318</td>\n",
       "      <td>30.9</td>\n",
       "      <td>0.150</td>\n",
       "      <td>29</td>\n",
       "      <td>1</td>\n",
       "    </tr>\n",
       "    <tr>\n",
       "      <th>730</th>\n",
       "      <td>3</td>\n",
       "      <td>130</td>\n",
       "      <td>78</td>\n",
       "      <td>23</td>\n",
       "      <td>79</td>\n",
       "      <td>28.4</td>\n",
       "      <td>0.323</td>\n",
       "      <td>34</td>\n",
       "      <td>1</td>\n",
       "    </tr>\n",
       "    <tr>\n",
       "      <th>301</th>\n",
       "      <td>2</td>\n",
       "      <td>144</td>\n",
       "      <td>58</td>\n",
       "      <td>33</td>\n",
       "      <td>135</td>\n",
       "      <td>31.6</td>\n",
       "      <td>0.422</td>\n",
       "      <td>25</td>\n",
       "      <td>1</td>\n",
       "    </tr>\n",
       "    <tr>\n",
       "      <th>476</th>\n",
       "      <td>2</td>\n",
       "      <td>105</td>\n",
       "      <td>80</td>\n",
       "      <td>45</td>\n",
       "      <td>191</td>\n",
       "      <td>33.7</td>\n",
       "      <td>0.711</td>\n",
       "      <td>29</td>\n",
       "      <td>1</td>\n",
       "    </tr>\n",
       "    <tr>\n",
       "      <th>296</th>\n",
       "      <td>2</td>\n",
       "      <td>146</td>\n",
       "      <td>70</td>\n",
       "      <td>38</td>\n",
       "      <td>360</td>\n",
       "      <td>28.0</td>\n",
       "      <td>0.337</td>\n",
       "      <td>29</td>\n",
       "      <td>1</td>\n",
       "    </tr>\n",
       "    <tr>\n",
       "      <th>326</th>\n",
       "      <td>1</td>\n",
       "      <td>122</td>\n",
       "      <td>64</td>\n",
       "      <td>32</td>\n",
       "      <td>156</td>\n",
       "      <td>35.1</td>\n",
       "      <td>0.692</td>\n",
       "      <td>30</td>\n",
       "      <td>1</td>\n",
       "    </tr>\n",
       "    <tr>\n",
       "      <th>322</th>\n",
       "      <td>0</td>\n",
       "      <td>124</td>\n",
       "      <td>70</td>\n",
       "      <td>20</td>\n",
       "      <td>0</td>\n",
       "      <td>27.4</td>\n",
       "      <td>0.254</td>\n",
       "      <td>36</td>\n",
       "      <td>1</td>\n",
       "    </tr>\n",
       "    <tr>\n",
       "      <th>165</th>\n",
       "      <td>6</td>\n",
       "      <td>104</td>\n",
       "      <td>74</td>\n",
       "      <td>18</td>\n",
       "      <td>156</td>\n",
       "      <td>29.9</td>\n",
       "      <td>0.722</td>\n",
       "      <td>41</td>\n",
       "      <td>1</td>\n",
       "    </tr>\n",
       "    <tr>\n",
       "      <th>312</th>\n",
       "      <td>2</td>\n",
       "      <td>155</td>\n",
       "      <td>74</td>\n",
       "      <td>17</td>\n",
       "      <td>96</td>\n",
       "      <td>26.6</td>\n",
       "      <td>0.433</td>\n",
       "      <td>27</td>\n",
       "      <td>1</td>\n",
       "    </tr>\n",
       "    <tr>\n",
       "      <th>419</th>\n",
       "      <td>3</td>\n",
       "      <td>129</td>\n",
       "      <td>64</td>\n",
       "      <td>29</td>\n",
       "      <td>115</td>\n",
       "      <td>26.4</td>\n",
       "      <td>0.219</td>\n",
       "      <td>28</td>\n",
       "      <td>1</td>\n",
       "    </tr>\n",
       "    <tr>\n",
       "      <th>321</th>\n",
       "      <td>3</td>\n",
       "      <td>112</td>\n",
       "      <td>74</td>\n",
       "      <td>30</td>\n",
       "      <td>0</td>\n",
       "      <td>31.6</td>\n",
       "      <td>0.197</td>\n",
       "      <td>25</td>\n",
       "      <td>1</td>\n",
       "    </tr>\n",
       "    <tr>\n",
       "      <th>542</th>\n",
       "      <td>10</td>\n",
       "      <td>90</td>\n",
       "      <td>85</td>\n",
       "      <td>32</td>\n",
       "      <td>0</td>\n",
       "      <td>34.9</td>\n",
       "      <td>0.825</td>\n",
       "      <td>56</td>\n",
       "      <td>1</td>\n",
       "    </tr>\n",
       "    <tr>\n",
       "      <th>755</th>\n",
       "      <td>1</td>\n",
       "      <td>128</td>\n",
       "      <td>88</td>\n",
       "      <td>39</td>\n",
       "      <td>110</td>\n",
       "      <td>36.5</td>\n",
       "      <td>1.057</td>\n",
       "      <td>37</td>\n",
       "      <td>1</td>\n",
       "    </tr>\n",
       "    <tr>\n",
       "      <th>189</th>\n",
       "      <td>5</td>\n",
       "      <td>139</td>\n",
       "      <td>80</td>\n",
       "      <td>35</td>\n",
       "      <td>160</td>\n",
       "      <td>31.6</td>\n",
       "      <td>0.361</td>\n",
       "      <td>25</td>\n",
       "      <td>1</td>\n",
       "    </tr>\n",
       "    <tr>\n",
       "      <th>540</th>\n",
       "      <td>8</td>\n",
       "      <td>100</td>\n",
       "      <td>74</td>\n",
       "      <td>40</td>\n",
       "      <td>215</td>\n",
       "      <td>39.4</td>\n",
       "      <td>0.661</td>\n",
       "      <td>43</td>\n",
       "      <td>1</td>\n",
       "    </tr>\n",
       "    <tr>\n",
       "      <th>291</th>\n",
       "      <td>0</td>\n",
       "      <td>107</td>\n",
       "      <td>62</td>\n",
       "      <td>30</td>\n",
       "      <td>74</td>\n",
       "      <td>36.6</td>\n",
       "      <td>0.757</td>\n",
       "      <td>25</td>\n",
       "      <td>1</td>\n",
       "    </tr>\n",
       "  </tbody>\n",
       "</table style=\"display:inline\"></td></th><th style=\"text-align:center\"><td style=\"vertical-align:top\"><h2>False_negative</h2><table style=\"display:inline\" border=\"1\" class=\"dataframe\">\n",
       "  <thead>\n",
       "    <tr style=\"text-align: right;\">\n",
       "      <th></th>\n",
       "      <th>Pregnancies</th>\n",
       "      <th>Glucose</th>\n",
       "      <th>BloodPressure</th>\n",
       "      <th>SkinThickness</th>\n",
       "      <th>Insulin</th>\n",
       "      <th>BMI</th>\n",
       "      <th>DiabetesPedigreeFunction</th>\n",
       "      <th>Age</th>\n",
       "      <th>Outcome</th>\n",
       "    </tr>\n",
       "  </thead>\n",
       "  <tbody>\n",
       "    <tr>\n",
       "      <th>699</th>\n",
       "      <td>4</td>\n",
       "      <td>118</td>\n",
       "      <td>70</td>\n",
       "      <td>0</td>\n",
       "      <td>0</td>\n",
       "      <td>44.5</td>\n",
       "      <td>0.904</td>\n",
       "      <td>26</td>\n",
       "      <td>0</td>\n",
       "    </tr>\n",
       "    <tr>\n",
       "      <th>228</th>\n",
       "      <td>4</td>\n",
       "      <td>197</td>\n",
       "      <td>70</td>\n",
       "      <td>39</td>\n",
       "      <td>744</td>\n",
       "      <td>36.7</td>\n",
       "      <td>2.329</td>\n",
       "      <td>31</td>\n",
       "      <td>0</td>\n",
       "    </tr>\n",
       "    <tr>\n",
       "      <th>335</th>\n",
       "      <td>0</td>\n",
       "      <td>165</td>\n",
       "      <td>76</td>\n",
       "      <td>43</td>\n",
       "      <td>255</td>\n",
       "      <td>47.9</td>\n",
       "      <td>0.259</td>\n",
       "      <td>26</td>\n",
       "      <td>0</td>\n",
       "    </tr>\n",
       "    <tr>\n",
       "      <th>436</th>\n",
       "      <td>12</td>\n",
       "      <td>140</td>\n",
       "      <td>85</td>\n",
       "      <td>33</td>\n",
       "      <td>0</td>\n",
       "      <td>37.4</td>\n",
       "      <td>0.244</td>\n",
       "      <td>41</td>\n",
       "      <td>0</td>\n",
       "    </tr>\n",
       "    <tr>\n",
       "      <th>495</th>\n",
       "      <td>6</td>\n",
       "      <td>166</td>\n",
       "      <td>74</td>\n",
       "      <td>0</td>\n",
       "      <td>0</td>\n",
       "      <td>26.6</td>\n",
       "      <td>0.304</td>\n",
       "      <td>66</td>\n",
       "      <td>0</td>\n",
       "    </tr>\n",
       "    <tr>\n",
       "      <th>669</th>\n",
       "      <td>9</td>\n",
       "      <td>154</td>\n",
       "      <td>78</td>\n",
       "      <td>30</td>\n",
       "      <td>100</td>\n",
       "      <td>30.9</td>\n",
       "      <td>0.164</td>\n",
       "      <td>45</td>\n",
       "      <td>0</td>\n",
       "    </tr>\n",
       "  </tbody>\n",
       "</table style=\"display:inline\"></td></th>"
      ]
     },
     "metadata": {},
     "output_type": "display_data"
    }
   ],
   "source": [
    "# we display False_positive and False_negative\n",
    "display_side_by_side(data.loc[False_positive],data.loc[False_negative] ,titles=['False_positive','False_negative'])"
   ]
  },
  {
   "cell_type": "code",
   "execution_count": 31,
   "id": "fb03fadd",
   "metadata": {
    "execution": {
     "iopub.execute_input": "2022-07-01T18:13:40.888228Z",
     "iopub.status.busy": "2022-07-01T18:13:40.887464Z",
     "iopub.status.idle": "2022-07-01T18:13:42.288290Z",
     "shell.execute_reply": "2022-07-01T18:13:42.287181Z"
    },
    "papermill": {
     "duration": 1.423332,
     "end_time": "2022-07-01T18:13:42.291203",
     "exception": false,
     "start_time": "2022-07-01T18:13:40.867871",
     "status": "completed"
    },
    "tags": []
   },
   "outputs": [
    {
     "data": {
      "image/png": "[encoded data removed]",
      "text/plain": [
       "<Figure size 432x288 with 8 Axes>"
      ]
     },
     "metadata": {
      "needs_background": "light"
     },
     "output_type": "display_data"
    }
   ],
   "source": [
    "# we show data , show False_positive and False_negative\n",
    "fig,axs=plt.subplots(4,2)\n",
    "feature=list(data.columns)\n",
    "index=-1\n",
    "for row in range(4):\n",
    "    for columns in range(2):\n",
    "        index+=1\n",
    "        axs[row,columns].scatter(data[feature[index]],data['Outcome'], label=f\" {feature[index]}\",c='b')\n",
    "        axs[row,columns].scatter(data.loc[False_positive][feature[index]],data.loc[False_positive]['Outcome'], label=\"False_positive\",c='r')\n",
    "        axs[row,columns].scatter(data.loc[False_negative][feature[index]],data.loc[False_negative]['Outcome'], label=\"False_negative\",c='y')\n",
    "        axs[row,columns].legend(loc=2)\n",
    "\n",
    "plt.subplots_adjust(left=0,right=1.9,bottom=0,top=1.9)"
   ]
  },
  {
   "cell_type": "code",
   "execution_count": 32,
   "id": "fdd1b1dc",
   "metadata": {
    "execution": {
     "iopub.execute_input": "2022-07-01T18:13:42.331979Z",
     "iopub.status.busy": "2022-07-01T18:13:42.330974Z",
     "iopub.status.idle": "2022-07-01T18:13:42.335918Z",
     "shell.execute_reply": "2022-07-01T18:13:42.335145Z"
    },
    "papermill": {
     "duration": 0.027746,
     "end_time": "2022-07-01T18:13:42.338132",
     "exception": false,
     "start_time": "2022-07-01T18:13:42.310386",
     "status": "completed"
    },
    "tags": []
   },
   "outputs": [],
   "source": [
    "#we will detect outlier"
   ]
  },
  {
   "cell_type": "code",
   "execution_count": 33,
   "id": "5a9012ae",
   "metadata": {
    "execution": {
     "iopub.execute_input": "2022-07-01T18:13:42.378453Z",
     "iopub.status.busy": "2022-07-01T18:13:42.377671Z",
     "iopub.status.idle": "2022-07-01T18:13:42.387746Z",
     "shell.execute_reply": "2022-07-01T18:13:42.386549Z"
    },
    "papermill": {
     "duration": 0.033879,
     "end_time": "2022-07-01T18:13:42.391012",
     "exception": false,
     "start_time": "2022-07-01T18:13:42.357133",
     "status": "completed"
    },
    "tags": []
   },
   "outputs": [
    {
     "name": "stdout",
     "output_type": "stream",
     "text": [
      "the outlier is  [445, 370, 4, 13]\n"
     ]
    }
   ],
   "source": [
    "outlier_sample=[]\n",
    "drop = data[(data['DiabetesPedigreeFunction']>=2)&(data['Outcome']>0)].index.values\n",
    "outlier_sample.extend([drop][0])\n",
    "drop = data[(data['Insulin']>=800)&(data['Outcome']==1)].index.values\n",
    "outlier_sample.extend([drop][0])\n",
    "\n",
    "print('the outlier is ',outlier_sample)"
   ]
  },
  {
   "cell_type": "code",
   "execution_count": 34,
   "id": "54295de3",
   "metadata": {
    "execution": {
     "iopub.execute_input": "2022-07-01T18:13:42.432310Z",
     "iopub.status.busy": "2022-07-01T18:13:42.431937Z",
     "iopub.status.idle": "2022-07-01T18:13:42.437160Z",
     "shell.execute_reply": "2022-07-01T18:13:42.436298Z"
    },
    "papermill": {
     "duration": 0.028853,
     "end_time": "2022-07-01T18:13:42.439586",
     "exception": false,
     "start_time": "2022-07-01T18:13:42.410733",
     "status": "completed"
    },
    "tags": []
   },
   "outputs": [],
   "source": [
    "data.drop(outlier_sample, axis=0, inplace=True)"
   ]
  },
  {
   "cell_type": "code",
   "execution_count": 35,
   "id": "c2a77267",
   "metadata": {
    "execution": {
     "iopub.execute_input": "2022-07-01T18:13:42.481239Z",
     "iopub.status.busy": "2022-07-01T18:13:42.480814Z",
     "iopub.status.idle": "2022-07-01T18:13:42.489847Z",
     "shell.execute_reply": "2022-07-01T18:13:42.488072Z"
    },
    "papermill": {
     "duration": 0.034399,
     "end_time": "2022-07-01T18:13:42.493385",
     "exception": false,
     "start_time": "2022-07-01T18:13:42.458986",
     "status": "completed"
    },
    "tags": []
   },
   "outputs": [
    {
     "name": "stdout",
     "output_type": "stream",
     "text": [
      "len of data  764\n"
     ]
    }
   ],
   "source": [
    "x = data.drop('Outcome', axis=1)\n",
    "y = data['Outcome']\n",
    "print('len of data ',len(data))"
   ]
  },
  {
   "cell_type": "code",
   "execution_count": 36,
   "id": "ab79064f",
   "metadata": {
    "execution": {
     "iopub.execute_input": "2022-07-01T18:13:42.535256Z",
     "iopub.status.busy": "2022-07-01T18:13:42.534325Z",
     "iopub.status.idle": "2022-07-01T18:13:42.543154Z",
     "shell.execute_reply": "2022-07-01T18:13:42.542116Z"
    },
    "papermill": {
     "duration": 0.03307,
     "end_time": "2022-07-01T18:13:42.546453",
     "exception": false,
     "start_time": "2022-07-01T18:13:42.513383",
     "status": "completed"
    },
    "tags": []
   },
   "outputs": [
    {
     "name": "stdout",
     "output_type": "stream",
     "text": [
      "x_train shape is: (664, 8)\n",
      "x_test shape is: (100, 8)\n",
      "y_train shape is: (664,)\n",
      "y_test shape is: (100,)\n"
     ]
    }
   ],
   "source": [
    "# we split data to train and test\n",
    "x_train,x_test,y_train,y_test=train_test_split(x,y,test_size=100,random_state=0)\n",
    "print(\"x_train shape is:\",x_train.shape)\n",
    "print(\"x_test shape is:\",x_test.shape)\n",
    "print(\"y_train shape is:\",y_train.shape)\n",
    "print(\"y_test shape is:\",y_test.shape)"
   ]
  },
  {
   "cell_type": "code",
   "execution_count": 37,
   "id": "2291b59e",
   "metadata": {
    "execution": {
     "iopub.execute_input": "2022-07-01T18:13:42.587951Z",
     "iopub.status.busy": "2022-07-01T18:13:42.586916Z",
     "iopub.status.idle": "2022-07-01T18:13:42.629433Z",
     "shell.execute_reply": "2022-07-01T18:13:42.627476Z"
    },
    "papermill": {
     "duration": 0.066694,
     "end_time": "2022-07-01T18:13:42.632932",
     "exception": false,
     "start_time": "2022-07-01T18:13:42.566238",
     "status": "completed"
    },
    "tags": []
   },
   "outputs": [
    {
     "name": "stdout",
     "output_type": "stream",
     "text": [
      "LogisticRegression Train Score is :  0.7756024096385542\n",
      "LogisticRegression Test Score is :  0.81\n"
     ]
    },
    {
     "name": "stderr",
     "output_type": "stream",
     "text": [
      "/opt/conda/lib/python3.7/site-packages/sklearn/linear_model/_logistic.py:818: ConvergenceWarning: lbfgs failed to converge (status=1):\n",
      "STOP: TOTAL NO. of ITERATIONS REACHED LIMIT.\n",
      "\n",
      "Increase the number of iterations (max_iter) or scale the data as shown in:\n",
      "    https://scikit-learn.org/stable/modules/preprocessing.html\n",
      "Please also refer to the documentation for alternative solver options:\n",
      "    https://scikit-learn.org/stable/modules/linear_model.html#logistic-regression\n",
      "  extra_warning_msg=_LOGISTIC_SOLVER_CONVERGENCE_MSG,\n"
     ]
    }
   ],
   "source": [
    "#we use LogisticRegression to overcome over fitting\n",
    "\n",
    "model = LogisticRegression()\n",
    "\n",
    "\n",
    "\n",
    "# fit the model with data\n",
    "model.fit(x_train,y_train)\n",
    "\n",
    "#\n",
    "y_pred=model.predict(x_test)\n",
    "\n",
    "# Model Accuracy, how often is the classifier correct?\n",
    "print('LogisticRegression Train Score is : ' , model.score(x_train, y_train))\n",
    "\n",
    "print('LogisticRegression Test Score is : ' , model.score(x_test, y_test))"
   ]
  },
  {
   "cell_type": "code",
   "execution_count": 38,
   "id": "2560f0cc",
   "metadata": {
    "execution": {
     "iopub.execute_input": "2022-07-01T18:13:42.674623Z",
     "iopub.status.busy": "2022-07-01T18:13:42.673542Z",
     "iopub.status.idle": "2022-07-01T18:13:42.678438Z",
     "shell.execute_reply": "2022-07-01T18:13:42.677406Z"
    },
    "papermill": {
     "duration": 0.028064,
     "end_time": "2022-07-01T18:13:42.680768",
     "exception": false,
     "start_time": "2022-07-01T18:13:42.652704",
     "status": "completed"
    },
    "tags": []
   },
   "outputs": [],
   "source": [
    "#we see the accuracy increase when we delete outllier"
   ]
  },
  {
   "cell_type": "markdown",
   "id": "d8bd32e4",
   "metadata": {
    "papermill": {
     "duration": 0.018997,
     "end_time": "2022-07-01T18:13:42.719587",
     "exception": false,
     "start_time": "2022-07-01T18:13:42.700590",
     "status": "completed"
    },
    "tags": []
   },
   "source": [
    "thank you"
   ]
  },
  {
   "cell_type": "code",
   "execution_count": null,
   "id": "fd5020e9",
   "metadata": {
    "papermill": {
     "duration": 0.019072,
     "end_time": "2022-07-01T18:13:42.757834",
     "exception": false,
     "start_time": "2022-07-01T18:13:42.738762",
     "status": "completed"
    },
    "tags": []
   },
   "outputs": [],
   "source": []
  }
 ],
 "metadata": {
  "kernelspec": {
   "display_name": "Python 3",
   "language": "python",
   "name": "python3"
  },
  "language_info": {
   "codemirror_mode": {
    "name": "ipython",
    "version": 3
   },
   "file_extension": ".py",
   "mimetype": "text/x-python",
   "name": "python",
   "nbconvert_exporter": "python",
   "pygments_lexer": "ipython3",
   "version": "3.7.12"
  },
  "papermill": {
   "default_parameters": {},
   "duration": 19.486578,
   "end_time": "2022-07-01T18:13:43.598922",
   "environment_variables": {},
   "exception": null,
   "input_path": "__notebook__.ipynb",
   "output_path": "__notebook__.ipynb",
   "parameters": {},
   "start_time": "2022-07-01T18:13:24.112344",
   "version": "2.3.4"
  }
 },
 "nbformat": 4,
 "nbformat_minor": 5
}
